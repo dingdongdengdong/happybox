{
  "nbformat": 4,
  "nbformat_minor": 0,
  "metadata": {
    "colab": {
      "provenance": [],
      "authorship_tag": "ABX9TyPsjUxk4tikubrO3RkwJjCE",
      "include_colab_link": true
    },
    "kernelspec": {
      "name": "python3",
      "display_name": "Python 3"
    },
    "language_info": {
      "name": "python"
    }
  },
  "cells": [
    {
      "cell_type": "markdown",
      "metadata": {
        "id": "view-in-github",
        "colab_type": "text"
      },
      "source": [
        "<a href=\"https://colab.research.google.com/github/dingdongdengdong/happybox/blob/main/LSTM.ipynb\" target=\"_parent\"><img src=\"https://colab.research.google.com/assets/colab-badge.svg\" alt=\"Open In Colab\"/></a>"
      ]
    },
    {
      "cell_type": "code",
      "execution_count": null,
      "metadata": {
        "id": "Q8vNH4R4DKBv"
      },
      "outputs": [],
      "source": [
        "from tqdm import tqdm\n",
        "import numpy as np\n",
        "import re"
      ]
    },
    {
      "cell_type": "code",
      "source": [
        "data= \"나라의 말이 중귝과 달라\""
      ],
      "metadata": {
        "id": "pfQ8ZH6ZDOQB"
      },
      "execution_count": null,
      "outputs": []
    },
    {
      "cell_type": "code",
      "source": [
        "def data_preprocessing(data):\n",
        "  data = re.sub('[^가-힣]',' ',data)\n",
        "  tokens = data.split()\n",
        "  vocab= list(set(tokens))\n",
        "  vocab_size = len(vocab)\n",
        "\n",
        "  Word_to_ix = {Word: i for i, Word in enumerate(vocab)}\n",
        "  ix_to_Word = {i: Word for i, Word in enumerate(vocab)}\n",
        "  return tokens, vocab_size,Word_to_ix, ix_to_Word"
      ],
      "metadata": {
        "id": "mlK3pBQYDPZd"
      },
      "execution_count": null,
      "outputs": []
    },
    {
      "cell_type": "code",
      "source": [
        "def sigmoid(input):\n",
        "  return 1 / (1+ np.exp(-input))\n",
        "\n",
        "def sigmoid_derivative(input):\n",
        "  return input * (1-input)\n",
        "\n",
        "def tanh(input, deivative=False):\n",
        "  return np.tanh(input)\n",
        "\n",
        "def tanh_derivative(input):\n",
        "  return 1- input**2\n",
        "\n",
        "def softmax(input):\n",
        "  return np.exp(input) / np.sum(np.exp(input))"
      ],
      "metadata": {
        "id": "kHm5wASkDRIZ"
      },
      "execution_count": null,
      "outputs": []
    }
  ]
}